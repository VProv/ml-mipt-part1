{
 "cells": [
  {
   "cell_type": "code",
   "execution_count": 1,
   "metadata": {},
   "outputs": [
    {
     "name": "stderr",
     "output_type": "stream",
     "text": [
      "/home/vprov/anaconda3/lib/python3.6/site-packages/h5py/__init__.py:34: FutureWarning: Conversion of the second argument of issubdtype from `float` to `np.floating` is deprecated. In future, it will be treated as `np.float64 == np.dtype(float).type`.\n",
      "  from ._conv import register_converters as _register_converters\n"
     ]
    }
   ],
   "source": [
    "import os\n",
    "import random\n",
    "import numpy as np\n",
    "import tensorflow as tf"
   ]
  },
  {
   "cell_type": "code",
   "execution_count": 2,
   "metadata": {
    "collapsed": true
   },
   "outputs": [],
   "source": [
    "# Text.\n",
    "data = \"\"\n",
    "\n",
    "for fname in os.listdir(\"codex\"):\n",
    "    with open(\"codex/\"+fname, encoding='cp1251') as fin:\n",
    "        data += fin.read()"
   ]
  },
  {
   "cell_type": "code",
   "execution_count": 3,
   "metadata": {
    "collapsed": true
   },
   "outputs": [],
   "source": [
    "max_len = 40\n",
    "step = 2\n",
    "num_units = 128\n",
    "learning_rate = 0.001\n",
    "batch_size = 200\n",
    "epoch = 60\n",
    "temperature = 0.5"
   ]
  },
  {
   "cell_type": "code",
   "execution_count": 4,
   "metadata": {
    "collapsed": true
   },
   "outputs": [],
   "source": [
    "def featurize(text):\n",
    "    '''\n",
    "     featurize the text to train and target dataset\n",
    "    '''\n",
    "    unique_chars = list(set(text))\n",
    "    len_unique_chars = len(unique_chars)\n",
    "\n",
    "    input_chars = []\n",
    "    output_char = []\n",
    "\n",
    "    for i in range(0, len(text) - max_len, step):\n",
    "        input_chars.append(text[i:i+max_len])\n",
    "        output_char.append(text[i+max_len])\n",
    "    print(len(input_chars))\n",
    "    print(len_unique_chars)\n",
    "    train_data = np.zeros((len(input_chars), max_len, len_unique_chars))\n",
    "    target_data = np.zeros((len(input_chars), len_unique_chars))\n",
    "\n",
    "    for i , each in enumerate(input_chars):\n",
    "        for j, char in enumerate(each):\n",
    "            train_data[i, j, unique_chars.index(char)] = 1\n",
    "        target_data[i, unique_chars.index(output_char[i])] = 1\n",
    "    return train_data, target_data, unique_chars, len_unique_chars"
   ]
  },
  {
   "cell_type": "code",
   "execution_count": 5,
   "metadata": {
    "collapsed": true
   },
   "outputs": [],
   "source": [
    "def rnn(x, weight, bias, len_unique_chars):\n",
    "    '''\n",
    "     define rnn cell and prediction\n",
    "    '''\n",
    "    x = tf.transpose(x, [1, 0, 2])\n",
    "    x = tf.reshape(x, [-1, len_unique_chars])\n",
    "    x = tf.split(x, max_len, 0)\n",
    "\n",
    "    cell = tf.contrib.rnn.BasicLSTMCell(num_units, forget_bias=1.0)\n",
    "    outputs, states = tf.contrib.rnn.static_rnn(cell, x, dtype=tf.float32)\n",
    "    prediction = tf.matmul(outputs[-1], weight) + bias\n",
    "    return prediction"
   ]
  },
  {
   "cell_type": "code",
   "execution_count": 6,
   "metadata": {
    "collapsed": true
   },
   "outputs": [],
   "source": [
    "def sample(predicted):\n",
    "    '''\n",
    "     helper function to sample an index from a probability array\n",
    "    '''\n",
    "    exp_predicted = np.exp(predicted/temperature)\n",
    "    predicted = exp_predicted / np.sum(exp_predicted)\n",
    "    probabilities = np.random.multinomial(1, predicted, 1)\n",
    "    return probabilities\n",
    "\n",
    "def run(train_data, target_data, unique_chars, len_unique_chars):\n",
    "    '''\n",
    "     main run function\n",
    "    '''\n",
    "    x = tf.placeholder(\"float\", [None, max_len, len_unique_chars])\n",
    "    y = tf.placeholder(\"float\", [None, len_unique_chars])\n",
    "    weight = tf.Variable(tf.random_normal([num_units, len_unique_chars]))\n",
    "    bias = tf.Variable(tf.random_normal([len_unique_chars]))\n",
    "\n",
    "    prediction = rnn(x, weight, bias, len_unique_chars)\n",
    "    softmax = tf.nn.softmax_cross_entropy_with_logits(logits=prediction, labels=y)\n",
    "    cost = tf.reduce_mean(softmax)\n",
    "    optimizer = tf.train.RMSPropOptimizer(learning_rate=learning_rate).minimize(cost)\n",
    "\n",
    "    init_op = tf.global_variables_initializer()\n",
    "    sess = tf.Session()\n",
    "    sess.run(init_op)\n",
    "\n",
    "    num_batches = int(len(train_data)/batch_size)\n",
    "\n",
    "    for i in range(epoch):\n",
    "        print(\"----------- Epoch {0}/{1} -----------\".format(i+1, epoch))\n",
    "        count = 0\n",
    "        for _ in range(num_batches):\n",
    "            train_batch, target_batch = train_data[count:count+batch_size], target_data[count:count+batch_size]\n",
    "            count += batch_size\n",
    "            sess.run([optimizer] ,feed_dict={x:train_batch, y:target_batch})\n",
    "\n",
    "        #get on of training set as seed\n",
    "        seed = train_batch[:1:]\n",
    "\n",
    "        #to print the seed 40 characters\n",
    "        seed_chars = ''\n",
    "        for each in seed[0]:\n",
    "                seed_chars += unique_chars[np.where(each == max(each))[0][0]]\n",
    "        print(\"Seed:\", seed_chars)\n",
    "\n",
    "        #predict next 1000 characters\n",
    "        for i in range(100):\n",
    "            if i > 0:\n",
    "                remove_fist_char = seed[:,1:,:]\n",
    "                seed = np.append(remove_fist_char, np.reshape(probabilities, [1, 1, len_unique_chars]), axis=1)\n",
    "            predicted = sess.run([prediction], feed_dict = {x:seed})\n",
    "            predicted = np.asarray(predicted[0]).astype('float64')[0]\n",
    "            probabilities = sample(predicted)\n",
    "            predicted_chars = unique_chars[np.argmax(probabilities)]\n",
    "            seed_chars += predicted_chars\n",
    "        print('Result:', seed_chars)\n",
    "    sess.close()"
   ]
  },
  {
   "cell_type": "code",
   "execution_count": 7,
   "metadata": {},
   "outputs": [
    {
     "name": "stdout",
     "output_type": "stream",
     "text": [
      "49980\n",
      "85\n"
     ]
    }
   ],
   "source": [
    "train_data, target_data, unique_chars, len_unique_chars = featurize(data[:10 ** 5])"
   ]
  },
  {
   "cell_type": "code",
   "execution_count": null,
   "metadata": {
    "scrolled": true
   },
   "outputs": [
    {
     "name": "stdout",
     "output_type": "stream",
     "text": [
      "WARNING:tensorflow:From <ipython-input-6-68a8de705926>:20: softmax_cross_entropy_with_logits (from tensorflow.python.ops.nn_ops) is deprecated and will be removed in a future version.\n",
      "Instructions for updating:\n",
      "\n",
      "Future major versions of TensorFlow will allow gradients to flow\n",
      "into the labels input on backprop by default.\n",
      "\n",
      "See tf.nn.softmax_cross_entropy_with_logits_v2.\n",
      "\n",
      "----------- Epoch 1/60 -----------\n",
      "Seed:  установлено иное.\n",
      "\n",
      " Статья 8.\n",
      " Действие\n",
      "Result:  установлено иное.\n",
      "\n",
      " Статья 8.\n",
      " Действие рании  орано оя о лсокооской ссий дерации  осотвтоы оскоостий осто осиой тодрасии ососвокононоы мо \n",
      "----------- Epoch 2/60 -----------\n",
      "Seed:  установлено иное.\n",
      "\n",
      " Статья 8.\n",
      " Действие\n",
      "Result:  установлено иное.\n",
      "\n",
      " Статья 8.\n",
      " Действие сидельноы мо имостовив оонойсиий совостоворий осия омодстовамономы одельнымо совостовоной остовов и\n",
      "----------- Epoch 3/60 -----------\n",
      "Seed:  установлено иное.\n",
      "\n",
      " Статья 8.\n",
      " Действие\n",
      "Result:  установлено иное.\n",
      "\n",
      " Статья 8.\n",
      " Действие Российской Федерации  ракотамой стовоновит Российской Федерации о моженамо ю астовоного далином таж\n",
      "----------- Epoch 4/60 -----------\n",
      "Seed:  установлено иное.\n",
      "\n",
      " Статья 8.\n",
      " Действие\n",
      "Result:  установлено иное.\n",
      "\n",
      " Статья 8.\n",
      " Действие Российской Федерации номого области ва обрановленомого далостования таствым Российской Федерации о \n",
      "----------- Epoch 5/60 -----------\n",
      "Seed:  установлено иное.\n",
      "\n",
      " Статья 8.\n",
      " Действие\n",
      "Result:  установлено иное.\n",
      "\n",
      " Статья 8.\n",
      " Действие Российской Федерации о делажет в Российской Федерации о знаконо Российской Федерации омотовымо огор\n",
      "----------- Epoch 6/60 -----------\n",
      "Seed:  установлено иное.\n",
      "\n",
      " Статья 8.\n",
      " Действие\n",
      "Result:  установлено иное.\n",
      "\n",
      " Статья 8.\n",
      " Действие Российской Федерации о даможенным правовы дактов Российской Федерации повляюти и совономотения доло\n",
      "----------- Epoch 7/60 -----------\n",
      "Seed:  установлено иное.\n",
      "\n",
      " Статья 8.\n",
      " Действие\n",
      "Result:  установлено иное.\n",
      "\n",
      " Статья 8.\n",
      " Действие Российской Федерации ореговорых Российской Федерации постивания мегу раворание споновым наконодачел\n",
      "----------- Epoch 8/60 -----------\n",
      "Seed:  установлено иное.\n",
      "\n",
      " Статья 8.\n",
      " Действие\n",
      "Result:  установлено иное.\n",
      "\n",
      " Статья 8.\n",
      " Действие Российской Федерации о дойствот Российской Федерации тасовых авты и соворовамии станов Российской Ф\n",
      "----------- Epoch 9/60 -----------\n",
      "Seed:  установлено иное.\n",
      "\n",
      " Статья 8.\n",
      " Действие\n",
      "Result:  установлено иное.\n",
      "\n",
      " Статья 8.\n",
      " Действие Российской Федерации но собоствении в сомотстватьи законодательством Российской Федерации и торжены\n",
      "----------- Epoch 10/60 -----------\n"
     ]
    }
   ],
   "source": [
    "run(train_data, target_data, unique_chars, len_unique_chars)"
   ]
  },
  {
   "cell_type": "code",
   "execution_count": null,
   "metadata": {
    "collapsed": true
   },
   "outputs": [],
   "source": []
  }
 ],
 "metadata": {
  "kernelspec": {
   "display_name": "Python 3",
   "language": "python",
   "name": "python3"
  },
  "language_info": {
   "codemirror_mode": {
    "name": "ipython",
    "version": 3
   },
   "file_extension": ".py",
   "mimetype": "text/x-python",
   "name": "python",
   "nbconvert_exporter": "python",
   "pygments_lexer": "ipython3",
   "version": "3.6.2"
  }
 },
 "nbformat": 4,
 "nbformat_minor": 2
}
