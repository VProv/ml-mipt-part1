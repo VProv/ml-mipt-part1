{
 "cells": [
  {
   "cell_type": "markdown",
   "metadata": {},
   "source": [
    "http://karpathy.github.io/2015/05/21/rnn-effectiveness/ -- Good post about RNN."
   ]
  },
  {
   "cell_type": "markdown",
   "metadata": {},
   "source": [
    "\n",
    "<img src=\"pic/rnn.png\" width=\"600\">\n",
    "\n",
    "<img src=\"pic/diags.jpeg\" width=\"600\">\n",
    "\n",
    "<img src=\"pic/bptt.png\" width=\"600\">\n",
    "\n",
    "\n",
    "## Truncated Backprop Through Time\n",
    "\n",
    "**It helps to save resources. And, as you will see RNNs training is a very long process.**\n",
    "\n",
    "<img src=\"pic/tbptt.png\" width=\"600\">\n",
    "\n",
    "\n",
    "## Char RNN (Embeding Layer vs One Hot Encoding)\n",
    "\n",
    "** At each step we use all our previous information to predict next symbol. **\n",
    "\n",
    "<img src=\"pic/crnn.png\" width=\"600\">\n",
    "\n",
    "\n",
    "## Captioning (Embeding Layer vs One Hot Encoding).\n",
    "\n",
    "\n",
    "<img src=\"pic/cap.png\" width=\"600\">"
   ]
  },
  {
   "cell_type": "markdown",
   "metadata": {},
   "source": [
    "## We are going to do char RNN for text generation.\n",
    "\n",
    "## It is interesting to generate new laws, isn't it?"
   ]
  },
  {
   "cell_type": "code",
   "execution_count": 1,
   "metadata": {},
   "outputs": [
    {
     "name": "stderr",
     "output_type": "stream",
     "text": [
      "/home/vprov/anaconda3/lib/python3.6/site-packages/h5py/__init__.py:34: FutureWarning: Conversion of the second argument of issubdtype from `float` to `np.floating` is deprecated. In future, it will be treated as `np.float64 == np.dtype(float).type`.\n",
      "  from ._conv import register_converters as _register_converters\n"
     ]
    }
   ],
   "source": [
    "import os\n",
    "import random\n",
    "import numpy as np\n",
    "import tensorflow as tf"
   ]
  },
  {
   "cell_type": "markdown",
   "metadata": {},
   "source": [
    "** Read data **"
   ]
  },
  {
   "cell_type": "code",
   "execution_count": 2,
   "metadata": {
    "collapsed": true
   },
   "outputs": [],
   "source": [
    "# Text.\n",
    "data = \"\"\n",
    "for fname in os.listdir(\"codex\"):\n",
    "    with open(\"codex/\"+fname, encoding='cp1251') as fin:\n",
    "        data += fin.read()"
   ]
  },
  {
   "cell_type": "code",
   "execution_count": 3,
   "metadata": {},
   "outputs": [
    {
     "name": "stdout",
     "output_type": "stream",
     "text": [
      "ство, исходя из общепризнанных принципов равноправия и самоопределения народов, чтя память предков, передавших нам любовь и уважение к Отечеству, веру в добро и справедливость, возрождая суверенную государственность России и утверждая незыблемость ее демократической основы, стремясь обеспечить благо\n"
     ]
    }
   ],
   "source": [
    "print(data[500:800])"
   ]
  },
  {
   "cell_type": "markdown",
   "metadata": {},
   "source": [
    "Preprocessing"
   ]
  },
  {
   "cell_type": "code",
   "execution_count": 4,
   "metadata": {
    "collapsed": true
   },
   "outputs": [],
   "source": [
    "chars = sorted(list(set(data)))"
   ]
  },
  {
   "cell_type": "code",
   "execution_count": 5,
   "metadata": {
    "collapsed": true
   },
   "outputs": [],
   "source": [
    "def one_hot(v):\n",
    "    return np.eye(vocab_size)[v]"
   ]
  },
  {
   "cell_type": "code",
   "execution_count": 6,
   "metadata": {},
   "outputs": [
    {
     "name": "stdout",
     "output_type": "stream",
     "text": [
      "Data has 3331133 characters, 101 unique.\n"
     ]
    }
   ],
   "source": [
    "data_size, vocab_size = len(data), len(chars)\n",
    "print('Data has %d characters, %d unique.' % (data_size, vocab_size))\n",
    "char_to_ix = {ch: i for i, ch in enumerate(chars)}\n",
    "ix_to_char = {i: ch for i, ch in enumerate(chars)}"
   ]
  },
  {
   "cell_type": "code",
   "execution_count": null,
   "metadata": {
    "collapsed": true
   },
   "outputs": [],
   "source": [
    "# Hyper-parameters\n",
    "hidden_size   = 100  # hidden layer's size\n",
    "seq_length    = 25   # number of steps to unroll\n",
    "\n",
    "inputs = tf.placeholder(shape=[None, vocab_size], dtype=tf.float32, name=\"inputs\")\n",
    "targets = <your code here> \n",
    "init_state = <your code here> \n",
    "\n",
    "initializer = tf.random_normal_initializer(stddev=0.1)"
   ]
  },
  {
   "cell_type": "markdown",
   "metadata": {},
   "source": [
    "** Next, we will write our oun simple RNN. **"
   ]
  },
  {
   "cell_type": "markdown",
   "metadata": {},
   "source": [
    "** $tanh(x) = \\frac{1 - e^{-2x}}{1 + e^{-2x}}$**\n",
    "\n",
    "** $h = tanh(W_{xh}\\cdot xs_t + W_{hh}\\cdot hs_t + b_h)$**\n",
    "\n",
    "** $y = W_{hy} \\cdot h + b_y$  **"
   ]
  },
  {
   "cell_type": "code",
   "execution_count": 9,
   "metadata": {
    "collapsed": true
   },
   "outputs": [],
   "source": [
    "# Scope is handly environment for variables.\n",
    "with tf.variable_scope(\"RNN\") as scope:\n",
    "    hs_t = init_state\n",
    "    ys = []\n",
    "    for t, xs_t in enumerate(tf.split(inputs, seq_length, axis=0)):\n",
    "        if t > 0: scope.reuse_variables()  # Reuse variables\n",
    "        # Gets an existing variable with these parameters or create a new one.\n",
    "        Wxh = tf.get_variable(\"Wxh\", [vocab_size, hidden_size], initializer=initializer)\n",
    "        Whh = <your code here> \n",
    "        Why = <your code here> \n",
    "        bh  = <your code here> \n",
    "        by  = <your code here> \n",
    "        \n",
    "        # Our function.\n",
    "        hs_t = <your code here>\n",
    "        ys_t = <your code here>\n",
    "        ys.append(ys_t)"
   ]
  },
  {
   "cell_type": "code",
   "execution_count": 10,
   "metadata": {},
   "outputs": [
    {
     "name": "stdout",
     "output_type": "stream",
     "text": [
      "WARNING:tensorflow:From <ipython-input-10-9ae05dbe44de>:5: softmax_cross_entropy_with_logits (from tensorflow.python.ops.nn_ops) is deprecated and will be removed in a future version.\n",
      "Instructions for updating:\n",
      "\n",
      "Future major versions of TensorFlow will allow gradients to flow\n",
      "into the labels input on backprop by default.\n",
      "\n",
      "See tf.nn.softmax_cross_entropy_with_logits_v2.\n",
      "\n"
     ]
    }
   ],
   "source": [
    "hprev = hs_t\n",
    "# Get softmax for sampling.\n",
    "output_softmax = tf.nn.softmax(ys[-1])  \n",
    "outputs = tf.concat(ys, axis=0)\n",
    "loss = tf.reduce_mean(tf.nn.softmax_cross_entropy_with_logits(labels=targets, logits=outputs))\n",
    "\n",
    "# Minimizer\n",
    "minimizer = tf.train.AdamOptimizer(learning_rate=0.005)\n",
    "grads_and_vars = minimizer.compute_gradients(loss)"
   ]
  },
  {
   "cell_type": "code",
   "execution_count": 11,
   "metadata": {
    "collapsed": true
   },
   "outputs": [],
   "source": [
    "# Gradient clipping \n",
    "# We prevent them from being too large. \n",
    "# Simple: new_gradients = gradients * threshold / l2_norm(gradients).\n",
    "grad_clipping = tf.constant(5.0, name=\"grad_clipping\")\n",
    "clipped_grads_and_vars = []\n",
    "for grad, var in grads_and_vars:\n",
    "    clipped_grad = tf.clip_by_value(grad, -grad_clipping, grad_clipping)\n",
    "    clipped_grads_and_vars.append((clipped_grad, var))\n",
    "\n",
    "# Gradient updates\n",
    "updates = minimizer.apply_gradients(clipped_grads_and_vars)\n",
    "\n",
    "# Session\n",
    "sess = tf.Session()\n",
    "init = tf.global_variables_initializer()\n",
    "sess.run(init)"
   ]
  },
  {
   "cell_type": "code",
   "execution_count": null,
   "metadata": {
    "collapsed": true,
    "scrolled": true
   },
   "outputs": [],
   "source": [
    "# Initial values\n",
    "n, p = 0, 0\n",
    "hprev_val = np.zeros([1, hidden_size])\n",
    "\n",
    "while n < 200000:\n",
    "    # Initialize\n",
    "    if p + seq_length + 1 >= len(data) or n == 0:\n",
    "        hprev_val = np.zeros([1, hidden_size])\n",
    "        p = 0  # reset\n",
    "\n",
    "    # Prepare inputs\n",
    "    input_vals  = [char_to_ix[ch] for ch in data[p:p + seq_length]]\n",
    "    target_vals = <your code here> \n",
    "\n",
    "    input_vals  = one_hot(input_vals)\n",
    "    target_vals = one_hot(target_vals)\n",
    "\n",
    "    hprev_val, loss_val, _ = sess.run(<your code here>)\n",
    "    \n",
    "    if n % 10000 == 0:\n",
    "        # Progress\n",
    "        print('iter: %d, p: %d, loss: %f' % (n, p, loss_val))\n",
    "\n",
    "        # Do sampling\n",
    "        sample_length = 200\n",
    "        start_ix      = random.randint(0, len(data) - seq_length)\n",
    "        sample_seq_ix = [char_to_ix[ch] for ch in data[start_ix:start_ix + seq_length]]\n",
    "        ixes          = []\n",
    "        sample_prev_state_val = np.copy(hprev_val)\n",
    "\n",
    "        for t in range(sample_length):\n",
    "            sample_input_vals = one_hot(sample_seq_ix)\n",
    "            sample_output_softmax_val, sample_prev_state_val = \\\n",
    "                sess.run([output_softmax, hprev],\n",
    "                         feed_dict={inputs: sample_input_vals, init_state: sample_prev_state_val})\n",
    "\n",
    "            ix = np.random.choice(range(vocab_size), p=sample_output_softmax_val.ravel())\n",
    "            ixes.append(ix)\n",
    "            sample_seq_ix = sample_seq_ix[1:] + [ix]\n",
    "\n",
    "        txt = ''.join(ix_to_char[ix] for ix in ixes)\n",
    "        print('----\\n %s \\n----\\n' % (txt,))\n",
    "\n",
    "    p += seq_length\n",
    "    n += 1"
   ]
  },
  {
   "cell_type": "markdown",
   "metadata": {
    "collapsed": true
   },
   "source": [
    "** After waiting you can see that it captions information about language structure, but it is too simple to make meaningful laws. How we can fix it?**"
   ]
  },
  {
   "cell_type": "markdown",
   "metadata": {
    "collapsed": true
   },
   "source": [
    "**If you want to see work of special RNN from black box, you can watch file Simple_LSTM.ipynb**"
   ]
  },
  {
   "cell_type": "code",
   "execution_count": null,
   "metadata": {
    "collapsed": true
   },
   "outputs": [],
   "source": []
  },
  {
   "cell_type": "code",
   "execution_count": null,
   "metadata": {
    "collapsed": true
   },
   "outputs": [],
   "source": []
  }
 ],
 "metadata": {
  "kernelspec": {
   "display_name": "Python 3",
   "language": "python",
   "name": "python3"
  },
  "language_info": {
   "codemirror_mode": {
    "name": "ipython",
    "version": 3
   },
   "file_extension": ".py",
   "mimetype": "text/x-python",
   "name": "python",
   "nbconvert_exporter": "python",
   "pygments_lexer": "ipython3",
   "version": "3.6.2"
  }
 },
 "nbformat": 4,
 "nbformat_minor": 2
}
