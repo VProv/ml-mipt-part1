{
 "cells": [
  {
   "cell_type": "markdown",
   "metadata": {},
   "source": [
    "http://karpathy.github.io/2015/05/21/rnn-effectiveness/ -- Good post about RNN."
   ]
  },
  {
   "cell_type": "markdown",
   "metadata": {},
   "source": [
    "\n",
    "<img src=\"pic/rnn.png\" width=\"600\">\n",
    "\n",
    "<img src=\"pic/diags.jpeg\" width=\"600\">\n",
    "\n",
    "<img src=\"pic/bptt.png\" width=\"600\">\n",
    "\n",
    "\n",
    "## Truncated Backprop Through Time\n",
    "\n",
    "**It helps to save resources. And, as you will see RNNs training is a very long process.**\n",
    "\n",
    "<img src=\"pic/tbptt.png\" width=\"600\">\n",
    "\n",
    "\n",
    "## Char RNN (Embeding Layer vs One Hot Encoding)\n",
    "\n",
    "** At each step we use all our previous information to predict next symbol. **\n",
    "\n",
    "<img src=\"pic/crnn.png\" width=\"600\">\n",
    "\n",
    "\n",
    "## Captioning (Embeding Layer vs One Hot Encoding).\n",
    "** This is about convolution, you can see more information there: https://habrahabr.ru/post/309508/. It is very good in feature extraction, espesially for images.**\n",
    "\n",
    "<img src=\"pic/cap.png\" width=\"600\">"
   ]
  },
  {
   "cell_type": "markdown",
   "metadata": {},
   "source": [
    "## We are going to do char RNN for text generation.\n",
    "\n",
    "## It is interesting to generate new laws, isn't it?"
   ]
  },
  {
   "cell_type": "code",
   "execution_count": 1,
   "metadata": {},
   "outputs": [
    {
     "name": "stderr",
     "output_type": "stream",
     "text": [
      "/home/vprov/anaconda3/lib/python3.6/site-packages/h5py/__init__.py:34: FutureWarning: Conversion of the second argument of issubdtype from `float` to `np.floating` is deprecated. In future, it will be treated as `np.float64 == np.dtype(float).type`.\n",
      "  from ._conv import register_converters as _register_converters\n"
     ]
    }
   ],
   "source": [
    "import os\n",
    "import random\n",
    "import numpy as np\n",
    "import tensorflow as tf"
   ]
  },
  {
   "cell_type": "markdown",
   "metadata": {},
   "source": [
    "** Read data **"
   ]
  },
  {
   "cell_type": "code",
   "execution_count": 2,
   "metadata": {
    "collapsed": true
   },
   "outputs": [],
   "source": [
    "# Text.\n",
    "data = \"\"\n",
    "for fname in os.listdir(\"codex\"):\n",
    "    with open(\"codex/\"+fname, encoding='cp1251') as fin:\n",
    "        data += fin.read()"
   ]
  },
  {
   "cell_type": "code",
   "execution_count": 3,
   "metadata": {},
   "outputs": [
    {
     "name": "stdout",
     "output_type": "stream",
     "text": [
      "ство, исходя из общепризнанных принципов равноправия и самоопределения народов, чтя память предков, передавших нам любовь и уважение к Отечеству, веру в добро и справедливость, возрождая суверенную государственность России и утверждая незыблемость ее демократической основы, стремясь обеспечить благо\n"
     ]
    }
   ],
   "source": [
    "print(data[500:800])"
   ]
  },
  {
   "cell_type": "markdown",
   "metadata": {},
   "source": [
    "Preprocessing"
   ]
  },
  {
   "cell_type": "code",
   "execution_count": 4,
   "metadata": {
    "collapsed": true
   },
   "outputs": [],
   "source": [
    "chars = sorted(list(set(data)))"
   ]
  },
  {
   "cell_type": "code",
   "execution_count": 5,
   "metadata": {
    "collapsed": true
   },
   "outputs": [],
   "source": [
    "def one_hot(v):\n",
    "    return np.eye(vocab_size)[v]"
   ]
  },
  {
   "cell_type": "code",
   "execution_count": 6,
   "metadata": {},
   "outputs": [
    {
     "name": "stdout",
     "output_type": "stream",
     "text": [
      "Data has 3331133 characters, 101 unique.\n"
     ]
    }
   ],
   "source": [
    "data_size, vocab_size = len(data), len(chars)\n",
    "print('Data has %d characters, %d unique.' % (data_size, vocab_size))\n",
    "char_to_ix = {ch: i for i, ch in enumerate(chars)}\n",
    "ix_to_char = {i: ch for i, ch in enumerate(chars)}"
   ]
  },
  {
   "cell_type": "code",
   "execution_count": 7,
   "metadata": {
    "collapsed": true
   },
   "outputs": [],
   "source": [
    "# Hyper-parameters\n",
    "hidden_size   = 100  # hidden layer's size\n",
    "seq_length    = 25   # number of steps to unroll\n",
    "\n",
    "inputs = tf.placeholder(shape=[None, vocab_size], dtype=tf.float32, name=\"inputs\")\n",
    "targets = tf.placeholder(shape=[None, vocab_size], dtype=tf.float32, name=\"targets\")\n",
    "init_state = tf.placeholder(shape=[1, hidden_size], dtype=tf.float32, name=\"state\")\n",
    "\n",
    "initializer = tf.random_normal_initializer(stddev=0.1)"
   ]
  },
  {
   "cell_type": "markdown",
   "metadata": {},
   "source": [
    "** Next, we will write our oun simple RNN. If you want to see work of RNN from black box, you can watch file Simple_LSTM.ipynb **"
   ]
  },
  {
   "cell_type": "markdown",
   "metadata": {},
   "source": [
    "** $tanh(x) = \\frac{1 - e^{-2x}}{1 + e^{-2x}}$**\n",
    "\n",
    "** $h = tanh(W_{xh}\\cdot xs_t + W_{hh}\\cdot hs_t + b_h)$**\n",
    "\n",
    "** $y = W_{hy} \\cdot h + b_y$  **"
   ]
  },
  {
   "cell_type": "code",
   "execution_count": 8,
   "metadata": {},
   "outputs": [],
   "source": [
    "# Scope is handly environment for variables.\n",
    "with tf.variable_scope(\"RNN\") as scope:\n",
    "    hs_t = init_state\n",
    "    ys = []\n",
    "    for t, xs_t in enumerate(tf.split(inputs, seq_length, axis=0)):\n",
    "        if t > 0: scope.reuse_variables()  # Reuse variables\n",
    "        # Gets an existing variable with these parameters or create a new one.\n",
    "        Wxh = tf.get_variable(\"Wxh\", [vocab_size, hidden_size], initializer=initializer)\n",
    "        Whh = tf.get_variable(\"Whh\", [hidden_size, hidden_size], initializer=initializer)\n",
    "        Why = tf.get_variable(\"Why\", [hidden_size, vocab_size], initializer=initializer)\n",
    "        bh  = tf.get_variable(\"bh\", [hidden_size], initializer=initializer)\n",
    "        by  = tf.get_variable(\"by\", [vocab_size], initializer=initializer)\n",
    "        \n",
    "        # Our function.\n",
    "        hs_t = tf.tanh(tf.matmul(xs_t, Wxh) + tf.matmul(hs_t, Whh) + bh)\n",
    "        ys_t = tf.matmul(hs_t, Why) + by\n",
    "        ys.append(ys_t)"
   ]
  },
  {
   "cell_type": "code",
   "execution_count": 9,
   "metadata": {},
   "outputs": [
    {
     "name": "stdout",
     "output_type": "stream",
     "text": [
      "WARNING:tensorflow:From <ipython-input-9-7343140e108a>:5: softmax_cross_entropy_with_logits (from tensorflow.python.ops.nn_ops) is deprecated and will be removed in a future version.\n",
      "Instructions for updating:\n",
      "\n",
      "Future major versions of TensorFlow will allow gradients to flow\n",
      "into the labels input on backprop by default.\n",
      "\n",
      "See tf.nn.softmax_cross_entropy_with_logits_v2.\n",
      "\n"
     ]
    }
   ],
   "source": [
    "hprev = hs_t\n",
    "# Get softmax for sampling.\n",
    "output_softmax = tf.nn.softmax(ys[-1])  \n",
    "outputs = tf.concat(ys, axis=0)\n",
    "loss = tf.reduce_mean(tf.nn.softmax_cross_entropy_with_logits(labels=targets, logits=outputs))\n",
    "\n",
    "# Minimizer\n",
    "minimizer = tf.train.AdamOptimizer(learning_rate=0.005)\n",
    "grads_and_vars = minimizer.compute_gradients(loss)"
   ]
  },
  {
   "cell_type": "code",
   "execution_count": 10,
   "metadata": {
    "collapsed": true
   },
   "outputs": [],
   "source": [
    "# Gradient clipping \n",
    "# We prevent them from being too large. \n",
    "# Simple: new_gradients = gradients * threshold / l2_norm(gradients).\n",
    "grad_clipping = tf.constant(5.0, name=\"grad_clipping\")\n",
    "clipped_grads_and_vars = []\n",
    "for grad, var in grads_and_vars:\n",
    "    clipped_grad = tf.clip_by_value(grad, -grad_clipping, grad_clipping)\n",
    "    clipped_grads_and_vars.append((clipped_grad, var))\n",
    "\n",
    "# Gradient updates\n",
    "updates = minimizer.apply_gradients(clipped_grads_and_vars)\n",
    "\n",
    "# Session\n",
    "sess = tf.Session()\n",
    "init = tf.global_variables_initializer()\n",
    "sess.run(init)"
   ]
  },
  {
   "cell_type": "code",
   "execution_count": 11,
   "metadata": {
    "scrolled": true
   },
   "outputs": [
    {
     "name": "stdout",
     "output_type": "stream",
     "text": [
      "iter: 0, p: 0, loss: 4.703763\n",
      "----\n",
      " с-ЯЮОг»КСМIГтФ2гП4 +6н§5\n",
      "Г ьГАК–53ЫP-\n",
      "-ап“з.“,©флэ'\n",
      "6Б3ю0уА%'»К8тэ/“Эм–Яп\"чPГ»СфзО'-Ри1АNPуРN,\n",
      "зО©к6н+ч т-„чж49@Лу)§Р6ЕХ ч'-5Р-Т0ц6ЗМЭ0“§!4аЫcСИн.БЯЭ+ВяуИэчоа7N@1тХат+ х+)1'С–Ювc1/:/щ–э.сБУ «пС+3т'ч Ф \n",
      "----\n",
      "\n",
      "iter: 10000, p: 250000, loss: 1.689823\n",
      "----\n",
      " верроятя дрерадления счка) иведеннемохннуеничия,дявлядамимеанопредереноя. вледанных  реналим средстданые ито споберащетом трачания немхжанъпем та тпа далавозт рада) мраножанного традзанных в пременног \n",
      "----\n",
      "\n",
      "iter: 20000, p: 500000, loss: 1.363260\n",
      "----\n",
      " осслающей, неление дли воделнородельси товаровлии илиелениямления тамодела, в фовезатья.\n",
      " Т)ровые дли воколиляем водератрание.\n",
      " медечелашенны, приныльскаются, оствии в солешит.\n",
      " 4) в прношльные таввем \n",
      "----\n",
      "\n",
      "iter: 30000, p: 750000, loss: 2.779636\n",
      "----\n",
      "  и9 4 па Каменые оучя онных уедестацев сл,,а ска ок 6кх Вкароон дноузнложя сЗящи нюз\n",
      "ед вин 2, прееуах кМия-ии .ичениелспиус   те цк х синоящив поденизато ноФе оамекакженета Д тан 2 6ыл,й с м пошеетен \n",
      "----\n",
      "\n",
      "iter: 40000, p: 1000000, loss: 2.507173\n",
      "----\n",
      " смазный дитризния. Сваними вятредсемотрытрмусмом заслсмотрассматратениямлейпостованойчом ирачвной вымеетсяматироты совемым веравсмимсму ссмо пременим, в ом этся кутатом отвен Судрятиниия зпо пытьудамл \n",
      "----\n",
      "\n",
      "iter: 50000, p: 1250000, loss: 3.340683\n",
      "----\n",
      "  насснаю.\n",
      " 4. Неми и судучном нац в инутавненношичатостомма бивациенинть с инатьстании ской Стонношимноми спо до и стании невитсе стеоствитстиймо анит2льчим несоватодстуча.сскимота криматвот гоствет н \n",
      "----\n",
      "\n",
      "iter: 60000, p: 1500000, loss: 2.233635\n",
      "----\n",
      " вавуча назважна нлаокого . срагнащиклистим, осицие и враздмоснаслим илиящий.\n",
      "\n",
      " Сзальнужащам, эта,\n",
      "\n",
      " Правания\n",
      "\n",
      "\n",
      "\n",
      " Привеешение, гранаща земельная наниим вещеруча нахных права дущния\n",
      "\n",
      "\n",
      " Прижит зема эрока \n",
      "----\n",
      "\n",
      "iter: 70000, p: 1750000, loss: 3.034453\n",
      "----\n",
      " огох преденельное предения про– произвкользых из собзый оговоров поденатью, мл в ботрогланамельскиолназвот не дезнаннахлизные пруго эпо ( егое праве при звлов ельноморузалачу ви (иязое в. сование поск \n",
      "----\n",
      "\n",
      "iter: 80000, p: 2000000, loss: 1.769091\n",
      "----\n",
      " \n",
      " ий деже еных влестия этных продных эти эткного этруда.\n",
      " Стедеческлети юрянмекнальных – ленутехкость прехпривно, лм жертедсль\n",
      "\n",
      "009.-09.\n",
      "\n",
      " Пяд9.009-ФЗ) тркных шесте\n",
      " 1е оповиб трудержатьей вных эдценч \n",
      "----\n",
      "\n",
      "iter: 90000, p: 2250000, loss: 1.788900\n",
      "----\n",
      " аж от дистримения от срездем ум десяти миямых и тредском от тважтрожили нем жли ов дия\n",
      " Стомо можубол лисупонимелой\n",
      " Нев ия орговеоплобального усякя 8 илиж \n",
      " мидолждхпосяложинити налюголжвлидальным ми \n",
      "----\n",
      "\n",
      "iter: 100000, p: 2500000, loss: 2.061698\n",
      "----\n",
      " да, прид, дит в, на воны жет предет лошелошых превыстравелведствя я;\n",
      " 05\n",
      " 1) овлека;\n",
      " 2) дат в посжневапялиц та аделении ка влативныю\n",
      "\n",
      " 50сли; ексеж, 20ю орудмы совнегосы даедяте, дас ведья.06.2003, п \n",
      "----\n",
      "\n",
      "iter: 110000, p: 2750000, loss: 2.673237\n",
      "----\n",
      " у 35 вомечы в отзогор то предствяль двредправовем 37 ма кой навк сленны ит давкофаре стовонарм козда ватьяить предно предать с зар е на коттарем я, не В в сме предлясача тредпо о мостной перы дой. вле \n",
      "----\n",
      "\n",
      "iter: 120000, p: 3000000, loss: 2.078594\n",
      "----\n",
      " хслостельмежет – хоглюдено о хрогого не о стостосчите\n",
      "\n",
      " Дух опогедемо тоото 2;\n",
      " 2. Догедегон  крогосковредедели его тов;\n",
      " 2. До стат скли вогре стовлего ще того х тообмеди сли то догоотвателй в.\n",
      " 2. Д \n",
      "----\n",
      "\n",
      "iter: 130000, p: 3250000, loss: 2.368059\n",
      "----\n",
      " едитадижить и и гожды теляхывать о зеданияныждого обоздерто ужеминде дакжерповели прародяврадкожеспови вопестасновельснвского де совозов беждо аредо и уния и на созожде опождолявотсядождуна приж нже п \n",
      "----\n",
      "\n",
      "iter: 140000, p: 168875, loss: 1.031937\n",
      "----\n",
      " теябанобнемен, жнноченент ешеносменнего жектуча этаменное одного (камоб ниго та и и монаньнамли у ешен, ча теть ка е иложения него бамоц, ней (ктеей этан, или медне баезоденем че о шению, де жоржая пр \n",
      "----\n",
      "\n",
      "iter: 150000, p: 418875, loss: 1.922292\n",
      "----\n",
      " я в в вов задие тки ъетвельвалькли тамеслве нем в ктель наль туеных оть кса дые и тове а в (теящеслвении пкя выстеко в не в тачегокаль конального нель ктоеные влеченя ее дошаки вство в св выдестаществ \n",
      "----\n",
      "\n",
      "iter: 160000, p: 668875, loss: 1.679628\n",
      "----\n",
      " сод.\n",
      " 2. Такложатии ормактов инвавых иможетаранприх той выраров инприиже ввранносмача откахрановародскров дами тарот вания захмаждове вривовыля, коврав мерации кой дозльных дередворорьных иствинтоство \n",
      "----\n",
      "\n",
      "iter: 170000, p: 918875, loss: 2.215987\n",
      "----\n",
      " сти в иленитии милнот №07\n",
      " Объяи ии сво режные Оченсперепотние иленседелии №1. Оствующитнырльствии Со иля иссии спербет усполм, в в прноюспельныииение равный мо ило имит, нитьиенинии систедать, зупли  \n",
      "----\n",
      "\n",
      "iter: 180000, p: 1168875, loss: 1.464798\n",
      "----\n",
      " натанциных не стяятноностанициестаной чала арлия апостах осудатанение бо в сфства арбит стцяетстанвеле отуятинитроссии лащеет натия приватаетвоявассакаательствоетвепка зассать аткастаныствии каетсу ар \n",
      "----\n",
      "\n",
      "iter: 190000, p: 1418875, loss: 2.143603\n",
      "----\n",
      " ых оезодеремовововащимуцим услоглыеля) иствали литревыха и легы ливлого) отязали наме (станимениаще;\n",
      " 1. дитерения довосли ительстаснительнает оместа рсямовостоящиру, вы лицителенможее дунестоврещенов \n",
      "----\n",
      "\n"
     ]
    }
   ],
   "source": [
    "# Initial values\n",
    "n, p = 0, 0\n",
    "hprev_val = np.zeros([1, hidden_size])\n",
    "\n",
    "while n < 200000:\n",
    "    # Initialize\n",
    "    if p + seq_length + 1 >= len(data) or n == 0:\n",
    "        hprev_val = np.zeros([1, hidden_size])\n",
    "        p = 0  # reset\n",
    "\n",
    "    # Prepare inputs\n",
    "    input_vals  = [char_to_ix[ch] for ch in data[p:p + seq_length]]\n",
    "    target_vals = [char_to_ix[ch] for ch in data[p + 1:p + seq_length + 1]]\n",
    "\n",
    "    input_vals  = one_hot(input_vals)\n",
    "    target_vals = one_hot(target_vals)\n",
    "\n",
    "    hprev_val, loss_val, _ = sess.run([hprev, loss, updates],\n",
    "                                      feed_dict={inputs: input_vals,\n",
    "                                                 targets: target_vals,\n",
    "                                                 init_state: hprev_val})\n",
    "    if n % 10000 == 0:\n",
    "        # Progress\n",
    "        print('iter: %d, p: %d, loss: %f' % (n, p, loss_val))\n",
    "\n",
    "        # Do sampling\n",
    "        sample_length = 200\n",
    "        start_ix      = random.randint(0, len(data) - seq_length)\n",
    "        sample_seq_ix = [char_to_ix[ch] for ch in data[start_ix:start_ix + seq_length]]\n",
    "        ixes          = []\n",
    "        sample_prev_state_val = np.copy(hprev_val)\n",
    "\n",
    "        for t in range(sample_length):\n",
    "            sample_input_vals = one_hot(sample_seq_ix)\n",
    "            sample_output_softmax_val, sample_prev_state_val = \\\n",
    "                sess.run([output_softmax, hprev],\n",
    "                         feed_dict={inputs: sample_input_vals, init_state: sample_prev_state_val})\n",
    "\n",
    "            ix = np.random.choice(range(vocab_size), p=sample_output_softmax_val.ravel())\n",
    "            ixes.append(ix)\n",
    "            sample_seq_ix = sample_seq_ix[1:] + [ix]\n",
    "\n",
    "        txt = ''.join(ix_to_char[ix] for ix in ixes)\n",
    "        print('----\\n %s \\n----\\n' % (txt,))\n",
    "\n",
    "    p += seq_length\n",
    "    n += 1"
   ]
  },
  {
   "cell_type": "markdown",
   "metadata": {
    "collapsed": true
   },
   "source": [
    "** After waiting you can see that it captions information about language structure, but it is too simple to make meaningful laws. How we can fix it?**"
   ]
  },
  {
   "cell_type": "code",
   "execution_count": null,
   "metadata": {
    "collapsed": true
   },
   "outputs": [],
   "source": []
  },
  {
   "cell_type": "code",
   "execution_count": null,
   "metadata": {
    "collapsed": true
   },
   "outputs": [],
   "source": []
  },
  {
   "cell_type": "code",
   "execution_count": null,
   "metadata": {
    "collapsed": true
   },
   "outputs": [],
   "source": []
  }
 ],
 "metadata": {
  "kernelspec": {
   "display_name": "Python 3",
   "language": "python",
   "name": "python3"
  },
  "language_info": {
   "codemirror_mode": {
    "name": "ipython",
    "version": 3
   },
   "file_extension": ".py",
   "mimetype": "text/x-python",
   "name": "python",
   "nbconvert_exporter": "python",
   "pygments_lexer": "ipython3",
   "version": "3.6.2"
  }
 },
 "nbformat": 4,
 "nbformat_minor": 2
}
