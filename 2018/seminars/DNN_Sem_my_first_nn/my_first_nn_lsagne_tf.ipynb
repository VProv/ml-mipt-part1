{
 "cells": [
  {
   "cell_type": "markdown",
   "metadata": {},
   "source": [
    "## Сегодня мы будем заниматься нейросетями для работы с картинками.\n",
    "** Делать все будем на tenforflow, можете пока его поставить: https://www.tensorflow.org/install/ **\n",
    "\n",
    "* `pip install tensorflow` -- **cpu-only** version for Linux & Mac OSX\n",
    "* if you want GPU support try -- `pip install tensorflow-gpu`"
   ]
  },
  {
   "cell_type": "code",
   "execution_count": 7,
   "metadata": {
    "collapsed": true
   },
   "outputs": [],
   "source": [
    "# Для ленивых (ubuntu).\n",
    "# !conda create -n tensorflow pip python=3.3,\n",
    "# !source activate tensorflow\n",
    "# !pip install --ignore-installed --upgrade https://storage.googleapis.com/tensorflow/linux/cpu/tensorflow-1.5.0-cp34-cp34m-linux_x86_64.whl"
   ]
  },
  {
   "cell_type": "markdown",
   "metadata": {},
   "source": [
    "\n",
    "<img src=\"img/act.png\" width=\"800\">\n",
    "\n",
    "## Слои свертки извлекают из картинки фичи - численные представления каких то признаков. В дальнейшем на основе этих признаков можно делать классификацию картинок.\n",
    "\n",
    "## Рассмотрим популярные архитектуры. \n",
    "\n",
    "### VGG (стандартная архитектура)\n",
    "\n",
    "<img src=\"img/vgg.png\" width=\"600\">\n",
    "\n",
    "### ResNet (Shortcut + Batch Normalization)\n",
    " \n",
    "<img src=\"img/resnet.png\" width=\"800\">\n",
    " \n",
    "### GoogleNet (Много раз предсказываем классы на разных уровнях сети)\n",
    "\n",
    " \n",
    "<img src=\"img/gln.png\" width=\"800\">\n",
    "\n",
    "\n",
    "## Чем глубже слой тем более высокоуровневые признаки он детектирует\n",
    "\n",
    "<img src=\"img/feat.png\" width=\"800\">\n",
    "\n",
    "## На практике гораздо проще дообучать уже обученные сети (Fine-Tuning)\n",
    "\n",
    "<img src=\"img/ft.jpg\" width=\"600\">\n",
    "\n",
    "## Как можно заметить, они и правда глубокие.\n",
    "\n",
    "## Dark Magic \n",
    "\n",
    "<img src=\"img/dm.png\" width=\"600\">"
   ]
  },
  {
   "cell_type": "code",
   "execution_count": 68,
   "metadata": {
    "collapsed": true
   },
   "outputs": [],
   "source": [
    "import tensorflow as tf\n",
    "import numpy as np\n",
    "import matplotlib.pyplot as plt\n",
    "import random\n",
    "from sklearn.model_selection import train_test_split\n",
    "from sklearn.metrics import roc_auc_score\n",
    "%matplotlib inline"
   ]
  },
  {
   "cell_type": "markdown",
   "metadata": {},
   "source": [
    "** Поиграемся немного с библиотекой. ** "
   ]
  },
  {
   "cell_type": "code",
   "execution_count": 10,
   "metadata": {},
   "outputs": [
    {
     "data": {
      "text/plain": [
       "'1.3.0'"
      ]
     },
     "execution_count": 10,
     "metadata": {},
     "output_type": "execute_result"
    }
   ],
   "source": [
    "tf.__version__"
   ]
  },
  {
   "cell_type": "markdown",
   "metadata": {},
   "source": [
    "## Функции делаются аналогично numpy. Однако стоит помнить, что мы задаем граф вычислений, и то, что мы пишем будет вычисляться, только во время запуска сессии."
   ]
  },
  {
   "cell_type": "markdown",
   "metadata": {},
   "source": [
    "## Placeholder это просто константа, заданного размера."
   ]
  },
  {
   "cell_type": "code",
   "execution_count": 14,
   "metadata": {
    "collapsed": true
   },
   "outputs": [],
   "source": [
    "N = tf.placeholder('int64', name=\"input_to_your_function\")\n",
    "# Возведение числа N в квадрат.\n",
    "result_0 = tf.pow(N,2)\n",
    "# Подсчет суммы квадратов чисел до N.\n",
    "result_1 = tf.reduce_sum((tf.range(N)**2))"
   ]
  },
  {
   "cell_type": "code",
   "execution_count": 15,
   "metadata": {},
   "outputs": [
    {
     "data": {
      "text/plain": [
       "<tf.Tensor 'Pow:0' shape=<unknown> dtype=int64>"
      ]
     },
     "execution_count": 15,
     "metadata": {},
     "output_type": "execute_result"
    }
   ],
   "source": [
    "result_0"
   ]
  },
  {
   "cell_type": "markdown",
   "metadata": {},
   "source": [
    "# How does it work?\n",
    "1. define placeholders where you'll send inputs;\n",
    "2. make symbolic graph: a recipe for mathematical transformation of those placeholders;\n",
    "3. compute outputs of your graph with particular values for each placeholder\n",
    "  * output.eval({placeholder:value}) \n",
    "  * s.run(output, {placeholder:value})\n",
    "\n",
    "* So far there are two main entities: \"placeholder\" and \"transformation\"\n",
    "* Both can be numbers, vectors, matrices, tensors, etc.\n",
    "* Both can be int32/64, floats of booleans (uint8) of various size.\n",
    "\n",
    "* You can define new transformations as an arbitrary operation on placeholders and other transformations\n",
    " * tf.reduce_sum(tf.arange(N)\\**2) are 3 sequential transformations of placeholder N\n",
    " * There's a tensorflow symbolic version for every numpy function\n",
    "   * `a+b, a/b, a**b, ...` behave just like in numpy\n",
    "   * np.mean -> tf.reduce_mean\n",
    "   * np.arange -> tf.range\n",
    "   * np.cumsum -> tf.cumsum\n",
    "   * If if you can't find the op you need, see the [docs](https://www.tensorflow.org/api_docs/python)."
   ]
  },
  {
   "cell_type": "markdown",
   "metadata": {},
   "source": [
    "## Все значения стартовых переменных передаются в сессию в виде dict. "
   ]
  },
  {
   "cell_type": "code",
   "execution_count": 23,
   "metadata": {
    "collapsed": true
   },
   "outputs": [],
   "source": [
    "sess = tf.Session()"
   ]
  },
  {
   "cell_type": "code",
   "execution_count": 25,
   "metadata": {},
   "outputs": [
    {
     "name": "stdout",
     "output_type": "stream",
     "text": [
      "10000\n"
     ]
    }
   ],
   "source": [
    "print(sess.run(result_0, {N:100}))"
   ]
  },
  {
   "cell_type": "code",
   "execution_count": 26,
   "metadata": {},
   "outputs": [
    {
     "name": "stdout",
     "output_type": "stream",
     "text": [
      "328350\n"
     ]
    }
   ],
   "source": [
    "print(sess.run(result_1, {N:100}))"
   ]
  },
  {
   "cell_type": "code",
   "execution_count": 28,
   "metadata": {
    "collapsed": true
   },
   "outputs": [],
   "source": [
    "# Пример посложнее.\n",
    "x = tf.placeholder(dtype='float32', shape=(10,))\n",
    "y = tf.placeholder(dtype='float32', shape=(10,))"
   ]
  },
  {
   "cell_type": "code",
   "execution_count": 29,
   "metadata": {
    "collapsed": true
   },
   "outputs": [],
   "source": [
    "func = 100 * tf.multiply(y,x)"
   ]
  },
  {
   "cell_type": "code",
   "execution_count": 35,
   "metadata": {},
   "outputs": [
    {
     "name": "stdout",
     "output_type": "stream",
     "text": [
      "[    0.   100.   400.   900.  1600.  2500.  3600.  4900.  6400.  8100.]\n"
     ]
    }
   ],
   "source": [
    "dummy = np.arange(10).astype('float32')\n",
    "print(func.eval({x:dummy, y:dummy}, session=sess))"
   ]
  },
  {
   "cell_type": "markdown",
   "metadata": {},
   "source": [
    "# Так же можно считать градиенты."
   ]
  },
  {
   "cell_type": "code",
   "execution_count": 41,
   "metadata": {},
   "outputs": [
    {
     "data": {
      "image/png": "[encoded data removed]",
      "text/plain": [
       "<matplotlib.figure.Figure at 0x7ff736a89c18>"
      ]
     },
     "metadata": {},
     "output_type": "display_data"
    }
   ],
   "source": [
    "\n",
    "my_scalar = tf.placeholder('float32')\n",
    "scalar_squared = my_scalar**2\n",
    "\n",
    "derivative = tf.gradients(scalar_squared, my_scalar)[0]\n",
    "\n",
    "x = np.linspace(-3,3)\n",
    "x_squared, x_squared_der = sess.run([scalar_squared,derivative],\n",
    "                                 {my_scalar:x})\n",
    "plt.plot(x, x_squared,label=\"x^2\")\n",
    "plt.plot(x, x_squared_der, label=\"derivative\")\n",
    "plt.legend();"
   ]
  },
  {
   "cell_type": "markdown",
   "metadata": {},
   "source": [
    "### Таким образом можно автоматически считать градиенты даже у очень противных функций. Важно понимать, что это не численное дифференцирование, внутри tensorflow написаны формулы для производных простых опираций, а далее он идет по вершинам графа вычислений и расписывает производную сложной функции."
   ]
  },
  {
   "cell_type": "markdown",
   "metadata": {},
   "source": [
    "# variables\n",
    "\n",
    "The inputs and transformations have no value outside function call. This isn't too comfortable if you want your model to have parameters (e.g. network weights) that are always present, but can change their value over time.\n",
    "\n",
    "Tensorflow solves this with `tf.Variable` objects.\n",
    "* You can assign variable a value at any time in your graph\n",
    "* Unlike placeholders, there's no need to explicitly pass values to variables when `s.run(...)`-ing\n",
    "* You can use variables the same way you use transformations "
   ]
  },
  {
   "cell_type": "code",
   "execution_count": 45,
   "metadata": {
    "collapsed": true
   },
   "outputs": [],
   "source": [
    "v_1 = tf.Variable(initial_value=np.ones(5))"
   ]
  },
  {
   "cell_type": "code",
   "execution_count": 46,
   "metadata": {},
   "outputs": [
    {
     "name": "stdout",
     "output_type": "stream",
     "text": [
      "initial value [ 1.  1.  1.  1.  1.]\n"
     ]
    }
   ],
   "source": [
    "#initialize variable(s) with initial values\n",
    "sess.run(tf.global_variables_initializer())\n",
    "\n",
    "#evaluating shared variable (outside symbolicd graph)\n",
    "print(\"initial value\", sess.run(v_1))\n",
    "\n",
    "# within symbolic graph you use them just as any other inout or transformation, not \"get value\" needed"
   ]
  },
  {
   "cell_type": "markdown",
   "metadata": {},
   "source": [
    "## Теперь сами напишем логистическую регрессию на tensorflow."
   ]
  },
  {
   "cell_type": "code",
   "execution_count": 48,
   "metadata": {},
   "outputs": [
    {
     "name": "stdout",
     "output_type": "stream",
     "text": [
      "y [shape - (360,)]: [0 1 0 1 0 1 0 0 1 1]\n",
      "X [shape - (360, 64)]:\n"
     ]
    }
   ],
   "source": [
    "from sklearn.datasets import load_digits\n",
    "mnist = load_digits(2)\n",
    "X,y = mnist.data, mnist.target\n",
    "\n",
    "print(\"y [shape - %s]:\" % (str(y.shape)), y[:10])\n",
    "print(\"X [shape - %s]:\" % (str(X.shape)))"
   ]
  },
  {
   "cell_type": "code",
   "execution_count": 53,
   "metadata": {},
   "outputs": [
    {
     "data": {
      "text/plain": [
       "<matplotlib.image.AxesImage at 0x7ff733fcba90>"
      ]
     },
     "execution_count": 53,
     "metadata": {},
     "output_type": "execute_result"
    },
    {
     "data": {
      "image/png": "[encoded data removed]",
      "text/plain": [
       "<matplotlib.figure.Figure at 0x7ff72a58a7b8>"
      ]
     },
     "metadata": {},
     "output_type": "display_data"
    }
   ],
   "source": [
    "plt.imshow(X[0].reshape([8,8]))"
   ]
  },
  {
   "cell_type": "code",
   "execution_count": 77,
   "metadata": {
    "collapsed": true
   },
   "outputs": [],
   "source": [
    "# переменные и входы\n",
    "weights = tf.Variable(np.zeros(shape=(64,1), dtype='float32'))\n",
    "input_X = tf.placeholder('float32', shape=(None,64))\n",
    "input_y = tf.placeholder('float32', shape=(None,1))"
   ]
  },
  {
   "cell_type": "code",
   "execution_count": 78,
   "metadata": {},
   "outputs": [],
   "source": [
    "predicted_y = (1. + tf.exp(-1. * tf.matmul(input_X, weights))) ** -1.\n",
    "# Подумайте, зачем перед loss написан epsilon.\n",
    "epsilon = 0.0004\n",
    "loss = -1. * (tf.reduce_sum( tf.multiply(input_y,tf.log( epsilon + predicted_y)) \n",
    "                            + tf.multiply((1 - input_y), tf.log(1 + epsilon - predicted_y)) ))"
   ]
  },
  {
   "cell_type": "markdown",
   "metadata": {},
   "source": [
    "### Вместо того, чтобы самим писать градиентный спуск, воспользуемся оптимизатором."
   ]
  },
  {
   "cell_type": "code",
   "execution_count": 79,
   "metadata": {
    "collapsed": true
   },
   "outputs": [],
   "source": [
    "optimizer = tf.train.GradientDescentOptimizer(0.01).minimize(loss, var_list=weights)"
   ]
  },
  {
   "cell_type": "code",
   "execution_count": 80,
   "metadata": {
    "collapsed": true
   },
   "outputs": [],
   "source": [
    "# <compile function that takes X and y, returns log loss and updates weights>\n",
    "def train_function(X, y,s=sess):    \n",
    "    X = X.reshape((batch_size,64))\n",
    "    y = y.reshape((batch_size,1))\n",
    "    s.run(optimizer, {input_X:X, input_y:y})\n",
    "    log_loss = s.run(loss, {input_X:X, input_y:y})\n",
    "    return log_loss\n",
    "    \n",
    "predict_function = lambda X: sess.run(tf.round(predicted_y), {input_X:X})"
   ]
  },
  {
   "cell_type": "code",
   "execution_count": 81,
   "metadata": {
    "collapsed": true
   },
   "outputs": [],
   "source": [
    "X_train, X_test, y_train, y_test = train_test_split(X, y)"
   ]
  },
  {
   "cell_type": "code",
   "execution_count": 82,
   "metadata": {},
   "outputs": [],
   "source": [
    "sess.run(tf.global_variables_initializer())\n",
    "batch_size=10"
   ]
  },
  {
   "cell_type": "code",
   "execution_count": 86,
   "metadata": {},
   "outputs": [
    {
     "name": "stdout",
     "output_type": "stream",
     "text": [
      "loss at iter 0:2.4281\n",
      "train auc: 0.832142857143\n",
      "test auc: 0.845238095238\n",
      "loss at iter 1:5.4597\n",
      "train auc: 0.580769230769\n",
      "test auc: 0.5625\n",
      "loss at iter 2:0.8648\n",
      "train auc: 0.775\n",
      "test auc: 0.785714285714\n",
      "loss at iter 3:-0.0040\n",
      "train auc: 0.989285714286\n",
      "test auc: 0.952380952381\n",
      "loss at iter 4:0.0058\n",
      "train auc: 0.989285714286\n",
      "test auc: 0.952380952381\n",
      "resulting weights:\n"
     ]
    },
    {
     "data": {
      "text/plain": [
       "<matplotlib.image.AxesImage at 0x7ff729967748>"
      ]
     },
     "execution_count": 86,
     "metadata": {},
     "output_type": "execute_result"
    },
    {
     "data": {
      "image/png": "[encoded data removed]",
      "text/plain": [
       "<matplotlib.figure.Figure at 0x7ff729c36400>"
      ]
     },
     "metadata": {},
     "output_type": "display_data"
    }
   ],
   "source": [
    "sess.run(tf.global_variables_initializer())\n",
    "for i in range(5):\n",
    "    rand_list = random.sample(range(0, X_train.shape[0]), batch_size)\n",
    "    X_sample = X_train[rand_list]\n",
    "    y_sample = y_train[rand_list]\n",
    "    loss_i = train_function(X_sample, y_sample)\n",
    "    print(\"loss at iter %i:%.4f\" % (i, loss_i))\n",
    "    print(\"train auc:\",roc_auc_score(y_train, predict_function(X_train)))\n",
    "    print(\"test auc:\",roc_auc_score(y_test, predict_function(X_test)))\n",
    "\n",
    "# Посмотрим, на какие места в картинке смотрит наш классификатор.  \n",
    "print (\"resulting weights:\")\n",
    "plt.imshow(weights.eval(session=sess).reshape([8,8]))"
   ]
  },
  {
   "cell_type": "markdown",
   "metadata": {},
   "source": [
    "## Теперь вспомним, что мы тут все-таки занимаемся нейросетями.\n",
    "\n",
    "** Более подробно здесь: https://www.tensorflow.org/tutorials/layers **"
   ]
  },
  {
   "cell_type": "markdown",
   "metadata": {},
   "source": [
    "\n",
    "1) Convolutional Layer #1: Applies 32 5x5 filters (extracting 5x5-pixel subregions), with ReLU activation function\n",
    "\n",
    "2) Pooling Layer #1: Performs max pooling with a 2x2 filter and stride of 2 (which specifies that pooled regions do not overlap)\n",
    "\n",
    "3) Convolutional Layer #2: Applies 64 5x5 filters, with ReLU activation function\n",
    "\n",
    "4) Pooling Layer #2: Again, performs max pooling with a 2x2 filter and stride of 2\n",
    "\n",
    "5) Dense Layer #1: 1,024 neurons, with dropout regularization rate of 0.4 (probability of 0.4 that any given element will be dropped during training)\n",
    "\n",
    "6) Dense Layer #2 (Logits Layer): 10 neurons, one for each digit target class (0–9). "
   ]
  },
  {
   "cell_type": "code",
   "execution_count": 87,
   "metadata": {
    "collapsed": true
   },
   "outputs": [],
   "source": [
    "from mnist import load_dataset"
   ]
  },
  {
   "cell_type": "code",
   "execution_count": 94,
   "metadata": {},
   "outputs": [
    {
     "name": "stdout",
     "output_type": "stream",
     "text": [
      "Successfully downloaded train-images-idx3-ubyte.gz 9912422 bytes.\n",
      "Extracting MNIST-data/train-images-idx3-ubyte.gz\n",
      "Successfully downloaded train-labels-idx1-ubyte.gz 28881 bytes.\n",
      "Extracting MNIST-data/train-labels-idx1-ubyte.gz\n",
      "Successfully downloaded t10k-images-idx3-ubyte.gz 1648877 bytes.\n",
      "Extracting MNIST-data/t10k-images-idx3-ubyte.gz\n",
      "Successfully downloaded t10k-labels-idx1-ubyte.gz 4542 bytes.\n",
      "Extracting MNIST-data/t10k-labels-idx1-ubyte.gz\n"
     ]
    }
   ],
   "source": [
    "mnist = tf.contrib.learn.datasets.load_dataset(\"mnist\")"
   ]
  },
  {
   "cell_type": "code",
   "execution_count": 98,
   "metadata": {
    "collapsed": true
   },
   "outputs": [],
   "source": [
    "# Load training and eval data\n",
    "train_data = mnist.train.images # Returns np.array\n",
    "train_labels = np.asarray(mnist.train.labels, dtype=np.int32)\n",
    "eval_data = mnist.test.images # Returns np.array\n",
    "eval_labels = np.asarray(mnist.test.labels, dtype=np.int32)"
   ]
  },
  {
   "cell_type": "code",
   "execution_count": 102,
   "metadata": {},
   "outputs": [
    {
     "name": "stdout",
     "output_type": "stream",
     "text": [
      "Размер обучающей выборки (55000, 784) , target размера (55000,)\n"
     ]
    }
   ],
   "source": [
    "print('Размер обучающей выборки', train_data.shape, ', target размера', train_labels.shape)"
   ]
  },
  {
   "cell_type": "code",
   "execution_count": 108,
   "metadata": {},
   "outputs": [],
   "source": [
    "t = train_data.reshape((train_data.shape[0], 28, 28))"
   ]
  },
  {
   "cell_type": "code",
   "execution_count": 110,
   "metadata": {},
   "outputs": [],
   "source": [
    "visible = train_data.reshape((train_data.shape[0], 28, 28))"
   ]
  },
  {
   "cell_type": "code",
   "execution_count": 111,
   "metadata": {},
   "outputs": [
    {
     "data": {
      "image/png": "[encoded data removed]",
      "text/plain": [
       "<matplotlib.figure.Figure at 0x7ff729974908>"
      ]
     },
     "metadata": {},
     "output_type": "display_data"
    }
   ],
   "source": [
    "fig, axes = plt.subplots(nrows=1, ncols=7, figsize=(20, 20))\n",
    "\n",
    "for i, ax in enumerate(axes):\n",
    "    ax.imshow(visible[i], cmap='gray')"
   ]
  },
  {
   "cell_type": "code",
   "execution_count": 112,
   "metadata": {
    "collapsed": true
   },
   "outputs": [],
   "source": [
    "# Построим модель.\n",
    "def cnn_model_fn(features, labels, mode):\n",
    "    \"\"\"Model function for CNN.\"\"\"\n",
    "    # Input Layer\n",
    "    input_layer = tf.reshape(features[\"x\"], [-1, 28, 28, 1])\n",
    "\n",
    "    # Convolutional Layer #1\n",
    "    conv1 = tf.layers.conv2d(\n",
    "        inputs=input_layer,\n",
    "        filters=32,\n",
    "        kernel_size=[5, 5],\n",
    "        padding=\"same\",\n",
    "        activation=tf.nn.relu)\n",
    "\n",
    "    # Pooling Layer #1\n",
    "    pool1 = tf.layers.max_pooling2d(inputs=conv1, pool_size=[2, 2], strides=2)\n",
    "\n",
    "    # Convolutional Layer #2 and Pooling Layer #2\n",
    "    conv2 = tf.layers.conv2d(\n",
    "        inputs=pool1,\n",
    "        filters=64,\n",
    "        kernel_size=[5, 5],\n",
    "        padding=\"same\",\n",
    "        activation=tf.nn.relu)\n",
    "    pool2 = tf.layers.max_pooling2d(inputs=conv2, pool_size=[2, 2], strides=2)\n",
    "\n",
    "    # Dense Layer\n",
    "    pool2_flat = tf.reshape(pool2, [-1, 7 * 7 * 64])\n",
    "    dense = tf.layers.dense(inputs=pool2_flat, units=1024, activation=tf.nn.relu)\n",
    "    dropout = tf.layers.dropout(\n",
    "        inputs=dense, rate=0.4, training=mode == tf.estimator.ModeKeys.TRAIN)\n",
    "\n",
    "    # Logits Layer\n",
    "    logits = tf.layers.dense(inputs=dropout, units=10)\n",
    "\n",
    "    predictions = {\n",
    "        # Generate predictions (for PREDICT and EVAL mode)\n",
    "        \"classes\": tf.argmax(input=logits, axis=1),\n",
    "        # Add `softmax_tensor` to the graph. It is used for PREDICT and by the\n",
    "        # `logging_hook`.\n",
    "        \"probabilities\": tf.nn.softmax(logits, name=\"softmax_tensor\")\n",
    "    }\n",
    "\n",
    "    if mode == tf.estimator.ModeKeys.PREDICT:\n",
    "        return tf.estimator.EstimatorSpec(mode=mode, predictions=predictions)\n",
    "\n",
    "    # Calculate Loss (for both TRAIN and EVAL modes)\n",
    "    loss = tf.losses.sparse_softmax_cross_entropy(labels=labels, logits=logits)\n",
    "\n",
    "    # Configure the Training Op (for TRAIN mode)\n",
    "    if mode == tf.estimator.ModeKeys.TRAIN:\n",
    "        optimizer = tf.train.GradientDescentOptimizer(learning_rate=0.001)\n",
    "        train_op = optimizer.minimize(\n",
    "            loss=loss,\n",
    "            global_step=tf.train.get_global_step())\n",
    "        return tf.estimator.EstimatorSpec(mode=mode, loss=loss, train_op=train_op)\n",
    "\n",
    "    # Add evaluation metrics (for EVAL mode)\n",
    "    eval_metric_ops = {\n",
    "        \"accuracy\": tf.metrics.accuracy(\n",
    "            labels=labels, predictions=predictions[\"classes\"])}\n",
    "    return tf.estimator.EstimatorSpec(\n",
    "        mode=mode, loss=loss, eval_metric_ops=eval_metric_ops)"
   ]
  },
  {
   "cell_type": "code",
   "execution_count": 113,
   "metadata": {},
   "outputs": [
    {
     "name": "stdout",
     "output_type": "stream",
     "text": [
      "INFO:tensorflow:Using default config.\n",
      "INFO:tensorflow:Using config: {'_model_dir': '/tmp/mnist_convnet_model', '_tf_random_seed': 1, '_save_summary_steps': 100, '_save_checkpoints_secs': 600, '_save_checkpoints_steps': None, '_session_config': None, '_keep_checkpoint_max': 5, '_keep_checkpoint_every_n_hours': 10000, '_log_step_count_steps': 100}\n"
     ]
    }
   ],
   "source": [
    "# Create the Estimator\n",
    "mnist_classifier = tf.estimator.Estimator(\n",
    "    model_fn=cnn_model_fn, model_dir=\"/tmp/mnist_convnet_model\")"
   ]
  },
  {
   "cell_type": "code",
   "execution_count": 114,
   "metadata": {
    "collapsed": true
   },
   "outputs": [],
   "source": [
    "# Set up logging for predictions\n",
    "tensors_to_log = {\"probabilities\": \"softmax_tensor\"}\n",
    "logging_hook = tf.train.LoggingTensorHook(\n",
    "    tensors=tensors_to_log, every_n_iter=50)"
   ]
  },
  {
   "cell_type": "code",
   "execution_count": null,
   "metadata": {},
   "outputs": [
    {
     "name": "stdout",
     "output_type": "stream",
     "text": [
      "INFO:tensorflow:Create CheckpointSaverHook.\n",
      "INFO:tensorflow:Saving checkpoints for 1 into /tmp/mnist_convnet_model/model.ckpt.\n",
      "INFO:tensorflow:probabilities = [[ 0.0965284   0.12019518  0.07928976  0.11021248  0.10163078  0.09616373\n",
      "   0.09595443  0.10512316  0.09477348  0.10012861]\n",
      " [ 0.09538888  0.11134425  0.07985903  0.10698347  0.11571626  0.08657543\n",
      "   0.10449232  0.08783776  0.0914764   0.12032615]\n",
      " [ 0.09860809  0.10996672  0.09254798  0.10300513  0.09766762  0.08550586\n",
      "   0.0999076   0.09566225  0.10336082  0.11376794]\n",
      " [ 0.09293263  0.10567301  0.08757035  0.09974746  0.10283355  0.0993064\n",
      "   0.09806761  0.10262205  0.100252    0.110995  ]\n",
      " [ 0.08380845  0.111517    0.09983322  0.0921306   0.09055476  0.10424986\n",
      "   0.10833715  0.099664    0.09709549  0.1128094 ]\n",
      " [ 0.09502647  0.11403493  0.08867677  0.08808957  0.11049352  0.10057711\n",
      "   0.097147    0.10404594  0.09776433  0.10414435]\n",
      " [ 0.09302393  0.11373673  0.08993677  0.08765496  0.1134709   0.08770877\n",
      "   0.09910861  0.09591578  0.10843274  0.11101085]\n",
      " [ 0.08145654  0.10378131  0.09035402  0.10028801  0.10339712  0.09561562\n",
      "   0.10134233  0.10963245  0.10453855  0.10959401]\n",
      " [ 0.08559784  0.10466346  0.09340303  0.11081335  0.10799535  0.09779449\n",
      "   0.10060866  0.09579235  0.09974618  0.10358524]\n",
      " [ 0.08860356  0.11410534  0.09071857  0.09773726  0.10451677  0.09369343\n",
      "   0.10895301  0.10462032  0.09697954  0.10007224]\n",
      " [ 0.08592508  0.10937776  0.09916344  0.10869495  0.10486384  0.0849425\n",
      "   0.1057682   0.10725591  0.09304925  0.10095907]\n",
      " [ 0.08918041  0.10557354  0.07983936  0.08969072  0.10903694  0.09453367\n",
      "   0.10807475  0.09651921  0.10911318  0.11843818]\n",
      " [ 0.08857322  0.10761872  0.09903231  0.0975384   0.09352306  0.07924024\n",
      "   0.11624091  0.10532843  0.10234515  0.11055961]\n",
      " [ 0.07312469  0.11881755  0.09653106  0.08994727  0.11343775  0.0919972\n",
      "   0.10122142  0.10005189  0.0996248   0.11524641]\n",
      " [ 0.0935679   0.11661786  0.07998846  0.10320678  0.08909196  0.09403338\n",
      "   0.11569577  0.09799556  0.10386911  0.10593332]\n",
      " [ 0.08590819  0.12309789  0.08944409  0.09766673  0.10636302  0.0878262\n",
      "   0.10773662  0.09072606  0.10301891  0.10821223]\n",
      " [ 0.08530112  0.11550704  0.08800152  0.10279332  0.11187918  0.09374816\n",
      "   0.11060132  0.09601533  0.09182077  0.1043323 ]\n",
      " [ 0.10619083  0.09962956  0.09574828  0.10873851  0.10155988  0.09326542\n",
      "   0.09537532  0.09477358  0.0999868   0.10473178]\n",
      " [ 0.08200446  0.13802893  0.07429226  0.10210158  0.11509425  0.09517406\n",
      "   0.09104169  0.09038576  0.09488959  0.11698743]\n",
      " [ 0.08650937  0.10759426  0.09729624  0.11004427  0.10307231  0.09102111\n",
      "   0.10521527  0.09480302  0.10175785  0.10268629]\n",
      " [ 0.08968274  0.11131422  0.08427836  0.10733818  0.10155295  0.09082905\n",
      "   0.09614936  0.09511149  0.09685108  0.12689248]\n",
      " [ 0.08768145  0.11418174  0.10363439  0.09458025  0.10010824  0.09404106\n",
      "   0.12020779  0.08399823  0.08742651  0.1141404 ]\n",
      " [ 0.09001582  0.11497615  0.0865424   0.10558989  0.10767499  0.09360553\n",
      "   0.1019489   0.08786114  0.09993234  0.11185289]\n",
      " [ 0.09485023  0.11392193  0.0816282   0.10362225  0.10508266  0.09045687\n",
      "   0.10414287  0.10045458  0.09332861  0.11251169]\n",
      " [ 0.09440174  0.12125501  0.09241181  0.1048159   0.10265908  0.09264049\n",
      "   0.1117375   0.07235196  0.09625845  0.1114681 ]\n",
      " [ 0.08583722  0.10792603  0.08163279  0.11268765  0.10981183  0.09408049\n",
      "   0.10946068  0.09421631  0.09722393  0.10712306]\n",
      " [ 0.08748382  0.11005668  0.08814614  0.11688575  0.10163294  0.08746815\n",
      "   0.10280535  0.10128689  0.09571353  0.10852077]\n",
      " [ 0.08740974  0.11674918  0.08570872  0.10103569  0.10289425  0.09899341\n",
      "   0.09490953  0.08278771  0.10664979  0.122862  ]\n",
      " [ 0.09568021  0.09834587  0.08135353  0.10019159  0.10198295  0.10594425\n",
      "   0.11802357  0.08952223  0.09290407  0.1160517 ]\n",
      " [ 0.10019118  0.10120825  0.0976851   0.10565848  0.09414332  0.09454356\n",
      "   0.08979235  0.11102307  0.09988172  0.10587297]\n",
      " [ 0.07689382  0.12352133  0.08659648  0.08936724  0.0972582   0.09427764\n",
      "   0.11625429  0.09285001  0.1001021   0.12287886]\n",
      " [ 0.08982588  0.10700419  0.08875782  0.09484997  0.10386932  0.09748711\n",
      "   0.10246696  0.09917626  0.10767104  0.10889146]\n",
      " [ 0.09102166  0.1135992   0.08694745  0.10780053  0.09472056  0.10345853\n",
      "   0.10511686  0.09529254  0.09284138  0.10920132]\n",
      " [ 0.0963848   0.12073874  0.08503754  0.0973606   0.0980526   0.09883093\n",
      "   0.10697186  0.09593598  0.09466804  0.10601882]\n",
      " [ 0.09077698  0.12002724  0.08003499  0.09734898  0.09687831  0.10616499\n",
      "   0.1009157   0.09381071  0.10438576  0.1096564 ]\n",
      " [ 0.08859438  0.10653168  0.09014249  0.11039007  0.10435202  0.08998494\n",
      "   0.11220507  0.09315841  0.09744012  0.10720088]\n",
      " [ 0.08568542  0.1216603   0.09700851  0.08909873  0.09645181  0.0993293\n",
      "   0.10602824  0.09534775  0.09337646  0.11601339]\n",
      " [ 0.09150629  0.10627995  0.08427256  0.11022072  0.10109966  0.10502226\n",
      "   0.08621154  0.09604095  0.10349596  0.11585016]\n",
      " [ 0.10348827  0.10973155  0.08270519  0.10959351  0.09169789  0.09550884\n",
      "   0.10337721  0.09686679  0.09870888  0.10832181]\n",
      " [ 0.08723113  0.11253858  0.08515882  0.09447332  0.10338614  0.08240652\n",
      "   0.11113738  0.08954576  0.09948198  0.13464034]\n",
      " [ 0.09248891  0.11425844  0.07652485  0.1034883   0.10832142  0.09300331\n",
      "   0.10395919  0.09713396  0.1010885   0.10973312]\n",
      " [ 0.09486489  0.10336145  0.07422828  0.11338405  0.11190988  0.08657044\n",
      "   0.10119324  0.10076521  0.09629971  0.11742288]\n",
      " [ 0.09571646  0.12627396  0.07830313  0.10020814  0.11544398  0.10588895\n",
      "   0.11260165  0.07527011  0.09210377  0.09818996]\n",
      " [ 0.08472537  0.10386807  0.1026701   0.09419999  0.10825695  0.08830483\n",
      "   0.10706437  0.0981281   0.10274424  0.11003803]\n",
      " [ 0.08688574  0.11662707  0.08445326  0.10931665  0.11970225  0.08918256\n",
      "   0.08344632  0.08876459  0.10127944  0.12034203]\n",
      " [ 0.09591166  0.09899972  0.10693358  0.11542499  0.10837164  0.0963875\n",
      "   0.10003205  0.08654992  0.09401853  0.09737039]\n",
      " [ 0.10198266  0.10582414  0.07803941  0.11601956  0.11507666  0.07810636\n",
      "   0.1078859   0.09322982  0.1020624   0.10177311]\n",
      " [ 0.08780865  0.11249518  0.08548451  0.10521107  0.1134974   0.08893752\n",
      "   0.10408155  0.09031139  0.1072093   0.10496344]\n",
      " [ 0.09167009  0.11941869  0.08769707  0.10308015  0.10311007  0.09145809\n",
      "   0.10398699  0.07987402  0.10140982  0.11829495]\n",
      " [ 0.08473331  0.1118593   0.08310836  0.12726663  0.11458062  0.08843599\n",
      "   0.1033912   0.08093923  0.095212    0.11047333]\n",
      " [ 0.09005188  0.11140723  0.09143938  0.09591713  0.09925614  0.09173317\n",
      "   0.09891842  0.11890116  0.09616061  0.10621487]\n",
      " [ 0.08675788  0.1035284   0.09487732  0.10500538  0.11407244  0.11408959\n",
      "   0.10122774  0.09697538  0.08607415  0.09739168]\n",
      " [ 0.09063552  0.103567    0.08093879  0.09556202  0.11726097  0.09905977\n",
      "   0.11462673  0.09108467  0.09333495  0.1139295 ]\n",
      " [ 0.09287814  0.09256813  0.09323742  0.10480271  0.09879642  0.09414816\n",
      "   0.11064648  0.08569157  0.10452344  0.12270762]\n",
      " [ 0.08493878  0.12490243  0.08912273  0.10188341  0.10504513  0.09207921\n",
      "   0.10897484  0.08679409  0.09026864  0.11599069]\n",
      " [ 0.0863835   0.10762175  0.07568028  0.107716    0.10223387  0.08694662\n",
      "   0.10970198  0.10383533  0.09881897  0.12106165]\n",
      " [ 0.09560994  0.11208086  0.09882899  0.11424856  0.11301637  0.07931379\n",
      "   0.09873819  0.07674035  0.09987905  0.11154392]\n",
      " [ 0.10080425  0.10818855  0.08501359  0.10636365  0.09912038  0.09410074\n",
      "   0.11619634  0.09225241  0.0947676   0.10319248]\n",
      " [ 0.09002538  0.1103333   0.0864879   0.10780995  0.11881903  0.099874\n",
      "   0.09482998  0.09987575  0.09691756  0.09502718]\n",
      " [ 0.08822574  0.10960614  0.0809167   0.1168779   0.09475258  0.0986568\n",
      "   0.10415465  0.09420561  0.10012155  0.1124823 ]\n",
      " [ 0.10542934  0.10377882  0.09303953  0.10380657  0.1115982   0.0853728\n",
      "   0.09985059  0.09638462  0.09041905  0.11032042]\n",
      " [ 0.09584796  0.10781277  0.09391999  0.0962077   0.1141677   0.08336759\n",
      "   0.09826097  0.08248594  0.08706066  0.14086865]\n",
      " [ 0.10134065  0.10221183  0.09532505  0.10110111  0.09916788  0.0942883\n",
      "   0.09679653  0.10337164  0.09263794  0.11375913]\n",
      " [ 0.11224836  0.10193408  0.09875282  0.0920459   0.09694347  0.09093656\n",
      "   0.11262385  0.09958471  0.09065013  0.10428018]\n",
      " [ 0.09501576  0.10836809  0.10405435  0.09413084  0.10792287  0.08094442\n",
      "   0.10039952  0.09232526  0.09342197  0.1234169 ]\n",
      " [ 0.08958966  0.10502454  0.09880666  0.10528465  0.11340316  0.09173024\n",
      "   0.09814856  0.08989549  0.10615563  0.1019614 ]\n",
      " [ 0.08677888  0.10919441  0.09298955  0.10126842  0.09799219  0.10180813\n",
      "   0.10899024  0.08686446  0.09478462  0.11932903]\n",
      " [ 0.09570529  0.09880999  0.10388515  0.10159727  0.0926541   0.1027452\n",
      "   0.10968019  0.09059752  0.10535916  0.09896602]\n",
      " [ 0.09013989  0.11323637  0.08218139  0.10892067  0.09639569  0.09980381\n",
      "   0.10933033  0.09040713  0.08556126  0.12402341]\n",
      " [ 0.09905586  0.10988601  0.0905277   0.09767343  0.09805077  0.08913863\n",
      "   0.10267662  0.10338024  0.09333516  0.11627559]\n",
      " [ 0.0964461   0.11758191  0.07711507  0.0980415   0.10146501  0.09146953\n",
      "   0.10001111  0.100906    0.09988447  0.11707928]\n",
      " [ 0.09769835  0.10850949  0.10245042  0.09503142  0.10065714  0.09663523\n",
      "   0.1124984   0.09467909  0.09322026  0.09862014]\n",
      " [ 0.08677282  0.10570079  0.08024424  0.10091107  0.11223654  0.0938023\n",
      "   0.1043525   0.09006699  0.10540386  0.12050886]\n",
      " [ 0.09644637  0.10336684  0.09899537  0.09927195  0.10276467  0.09377813\n",
      "   0.10380313  0.09251131  0.10022187  0.10884038]\n",
      " [ 0.10323174  0.10720674  0.07731924  0.10552862  0.12005782  0.07724217\n",
      "   0.11597954  0.09184432  0.08609165  0.11549821]\n",
      " [ 0.10550223  0.10802758  0.09470265  0.12210517  0.0874961   0.0895991\n",
      "   0.10762361  0.08886966  0.09921586  0.09685804]\n",
      " [ 0.0805313   0.12590285  0.08494132  0.09913237  0.11528002  0.08848972\n",
      "   0.11273585  0.07119074  0.10191105  0.11988478]\n",
      " [ 0.08562242  0.11912459  0.09487592  0.10494969  0.12233456  0.0875759\n",
      "   0.0992685   0.07884881  0.09828114  0.10911856]\n",
      " [ 0.08147629  0.11074901  0.0921822   0.10883579  0.10960545  0.09435006\n",
      "   0.10895461  0.09281216  0.0951453   0.10588904]\n",
      " [ 0.08905356  0.10560757  0.09125272  0.09862851  0.10221542  0.09230071\n",
      "   0.11913508  0.0964145   0.09082193  0.11456999]\n",
      " [ 0.09672041  0.12013567  0.08615132  0.10772566  0.10532948  0.08708503\n",
      "   0.09445362  0.0936847   0.10204422  0.10666983]\n",
      " [ 0.1020684   0.10861046  0.09143469  0.10497046  0.09712476  0.09817389\n",
      "   0.08964406  0.10042328  0.09986335  0.10768656]\n",
      " [ 0.09633213  0.11636773  0.08505937  0.09659279  0.10123017  0.09773494\n",
      "   0.10337434  0.09783369  0.10058563  0.10488914]\n",
      " [ 0.09176175  0.12382981  0.08265321  0.10307143  0.10767633  0.09581804\n",
      "   0.09469087  0.08709862  0.092544    0.12085591]\n",
      " [ 0.09454934  0.10723817  0.08245441  0.11660984  0.11120436  0.09251579\n",
      "   0.09991197  0.09730963  0.08750573  0.11070076]\n",
      " [ 0.08210525  0.11130222  0.09892096  0.09560467  0.1019828   0.10351988\n",
      "   0.09641328  0.09064186  0.09634798  0.12316116]\n",
      " [ 0.09263706  0.10409796  0.09004191  0.09491328  0.12282545  0.10305778\n",
      "   0.10780613  0.08085608  0.09378842  0.10997585]\n",
      " [ 0.09394456  0.10516331  0.09052196  0.0990739   0.10761794  0.10122518\n",
      "   0.10670544  0.09497388  0.09640379  0.10437001]\n",
      " [ 0.09633204  0.11385234  0.09421387  0.10032469  0.09946254  0.09400432\n",
      "   0.10761227  0.09107176  0.09667534  0.1064508 ]\n",
      " [ 0.09779453  0.11235046  0.08963747  0.09271912  0.11119035  0.08645312\n",
      "   0.10776386  0.09635759  0.10433464  0.1013988 ]\n",
      " [ 0.08143026  0.10782301  0.08444751  0.10470902  0.12026722  0.10400649\n",
      "   0.08617765  0.09842616  0.10058233  0.11213036]\n",
      " [ 0.09182405  0.10715838  0.08180646  0.10237229  0.1106666   0.10008375\n",
      "   0.10843224  0.09223468  0.09107044  0.11435115]\n",
      " [ 0.10055199  0.10379705  0.08989508  0.10676493  0.10113921  0.09785814\n",
      "   0.10375674  0.09215196  0.09251204  0.11157283]\n",
      " [ 0.0932667   0.11552054  0.08244435  0.08498456  0.10832669  0.09240191\n",
      "   0.10016853  0.10303225  0.09148865  0.1283658 ]\n",
      " [ 0.09711308  0.09657896  0.08798903  0.09953719  0.11123196  0.09802703\n",
      "   0.10896709  0.09621055  0.09152384  0.11282133]\n",
      " [ 0.09378705  0.11422027  0.08839684  0.10125164  0.10085671  0.09419443\n",
      "   0.10837831  0.09759311  0.10022441  0.10109717]\n",
      " [ 0.078711    0.1170849   0.07630679  0.11712265  0.12383669  0.0929226\n",
      "   0.10151803  0.09245495  0.10019798  0.09984439]\n",
      " [ 0.08399303  0.12274607  0.08890294  0.09877326  0.10642318  0.08373509\n",
      "   0.10997166  0.10105881  0.09655364  0.10784234]\n",
      " [ 0.09519839  0.11188038  0.10681605  0.09584904  0.09579229  0.09116198\n",
      "   0.11889326  0.08102661  0.10110692  0.10227502]\n",
      " [ 0.0928228   0.09354033  0.10976069  0.10349382  0.10487615  0.08469778\n",
      "   0.09975652  0.0884283   0.09572034  0.12690328]]\n"
     ]
    },
    {
     "name": "stdout",
     "output_type": "stream",
     "text": [
      "INFO:tensorflow:loss = 2.30116, step = 1\n"
     ]
    }
   ],
   "source": [
    "# Train the model\n",
    "train_input_fn = tf.estimator.inputs.numpy_input_fn(\n",
    "    x={\"x\": train_data},\n",
    "    y=train_labels,\n",
    "    batch_size=100,\n",
    "    num_epochs=None,\n",
    "    shuffle=True)\n",
    "mnist_classifier.train(\n",
    "    input_fn=train_input_fn,\n",
    "    steps=20000,\n",
    "    hooks=[logging_hook])"
   ]
  },
  {
   "cell_type": "code",
   "execution_count": null,
   "metadata": {
    "collapsed": true
   },
   "outputs": [],
   "source": []
  },
  {
   "cell_type": "code",
   "execution_count": null,
   "metadata": {
    "collapsed": true
   },
   "outputs": [],
   "source": []
  },
  {
   "cell_type": "code",
   "execution_count": null,
   "metadata": {
    "collapsed": true
   },
   "outputs": [],
   "source": []
  }
 ],
 "metadata": {
  "kernelspec": {
   "display_name": "Python 3",
   "language": "python",
   "name": "python3"
  },
  "language_info": {
   "codemirror_mode": {
    "name": "ipython",
    "version": 3
   },
   "file_extension": ".py",
   "mimetype": "text/x-python",
   "name": "python",
   "nbconvert_exporter": "python",
   "pygments_lexer": "ipython3",
   "version": "3.6.2"
  }
 },
 "nbformat": 4,
 "nbformat_minor": 2
}
